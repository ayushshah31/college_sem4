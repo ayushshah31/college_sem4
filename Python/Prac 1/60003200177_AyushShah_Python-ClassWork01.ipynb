{
 "cells": [
  {
   "cell_type": "code",
   "execution_count": 2,
   "id": "1b160a8c-d932-49ae-beda-eac8f8c6e6d0",
   "metadata": {},
   "outputs": [],
   "source": [
    "str = \"This is the first python practical for SE B4 Information Technology department\""
   ]
  },
  {
   "cell_type": "code",
   "execution_count": 3,
   "id": "864c7370-fb25-4034-a932-900633b41e03",
   "metadata": {},
   "outputs": [
    {
     "data": {
      "text/plain": [
       "'This is the first python practical for SE B4 Information Technology department'"
      ]
     },
     "execution_count": 3,
     "metadata": {},
     "output_type": "execute_result"
    }
   ],
   "source": [
    "str"
   ]
  },
  {
   "cell_type": "code",
   "execution_count": 4,
   "id": "552acb8d-b731-459a-96d4-87e2149f03bb",
   "metadata": {},
   "outputs": [
    {
     "data": {
      "text/plain": [
       "'is the first python practical for SE B4 Information Technology department'"
      ]
     },
     "execution_count": 4,
     "metadata": {},
     "output_type": "execute_result"
    }
   ],
   "source": [
    "str[5:]"
   ]
  },
  {
   "cell_type": "code",
   "execution_count": 21,
   "id": "d403288e-47e6-4101-8806-e2506ddafd81",
   "metadata": {},
   "outputs": [],
   "source": [
    "c=0"
   ]
  },
  {
   "cell_type": "code",
   "execution_count": 18,
   "id": "9be3f319-d031-4875-809d-1a96e4409d42",
   "metadata": {},
   "outputs": [],
   "source": [
    "tup = (1,2,(2,4))"
   ]
  },
  {
   "cell_type": "code",
   "execution_count": 20,
   "id": "3be67def-f656-431c-83a3-0f9689fb6c14",
   "metadata": {},
   "outputs": [
    {
     "data": {
      "text/plain": [
       "4"
      ]
     },
     "execution_count": 20,
     "metadata": {},
     "output_type": "execute_result"
    }
   ],
   "source": [
    "tup[2][1]"
   ]
  },
  {
   "cell_type": "code",
   "execution_count": 6,
   "id": "55d93002-8397-462d-af2d-5b628f142a64",
   "metadata": {},
   "outputs": [],
   "source": [
    "a = [1,0,\"Hi\"]"
   ]
  },
  {
   "cell_type": "code",
   "execution_count": 7,
   "id": "1d826a47-85c8-4b45-9b01-afc1329eedea",
   "metadata": {},
   "outputs": [],
   "source": [
    "b = [\"Hello\",a]"
   ]
  },
  {
   "cell_type": "code",
   "execution_count": 13,
   "id": "194b03e6-88cc-477e-9c61-dde451560efc",
   "metadata": {},
   "outputs": [
    {
     "name": "stdout",
     "output_type": "stream",
     "text": [
      "Hi\n"
     ]
    }
   ],
   "source": [
    "print(b[1][2])"
   ]
  },
  {
   "cell_type": "code",
   "execution_count": 30,
   "id": "cf712db2-d341-4ec5-b579-97012bd61502",
   "metadata": {},
   "outputs": [
    {
     "name": "stdout",
     "output_type": "stream",
     "text": [
      "0\n",
      "2\n",
      "4\n",
      "6\n",
      "8\n"
     ]
    }
   ],
   "source": [
    "for i in range(0,10,2):\n",
    "    print(i)"
   ]
  },
  {
   "cell_type": "code",
   "execution_count": null,
   "id": "f6aa9745-2552-4e27-9639-92a7c6c09da8",
   "metadata": {},
   "outputs": [],
   "source": [
    "# input a string having some digits from the user give the sum of the digits present in the string\n",
    "# take 10 no from the user in a tupple and print the same in ascending order\n",
    "# write a program to create a dictionary of 5 customers with their bill values as float numbers and later find their bill paid"
   ]
  },
  {
   "cell_type": "code",
   "execution_count": 35,
   "id": "a0eaccd6-7b7f-4d56-8f5b-eb9bd13caf4b",
   "metadata": {},
   "outputs": [
    {
     "name": "stdin",
     "output_type": "stream",
     "text": [
      "Enter digits:  1 2 3 4 5 6 7 8 9\n"
     ]
    },
    {
     "name": "stdout",
     "output_type": "stream",
     "text": [
      "45\n"
     ]
    }
   ],
   "source": [
    "# 1:\n",
    "a = input(\"Enter digits: \")\n",
    "sum=0\n",
    "for i in a:\n",
    "    if(i.isdigit()):\n",
    "        sum = sum + int(i)\n",
    "        \n",
    "print(sum)"
   ]
  },
  {
   "cell_type": "code",
   "execution_count": 46,
   "id": "d236da68-c781-48ef-a51e-e6f62bfce3c3",
   "metadata": {},
   "outputs": [
    {
     "name": "stdin",
     "output_type": "stream",
     "text": [
      "Enter Number:  10\n",
      "Enter Number:  9\n",
      "Enter Number:  3\n",
      "Enter Number:  6\n",
      "Enter Number:  1\n",
      "Enter Number:  7\n",
      "Enter Number:  2\n",
      "Enter Number:  8\n",
      "Enter Number:  20\n",
      "Enter Number:  31\n"
     ]
    },
    {
     "name": "stdout",
     "output_type": "stream",
     "text": [
      "[1, 2, 3, 6, 7, 8, 9, 10, 20, 31]\n",
      "(10, 9, 3, 6, 1, 7, 2, 8, 20, 31)\n"
     ]
    }
   ],
   "source": [
    "#2\n",
    "tup = ()\n",
    "list1 = []\n",
    "for i in range(10):\n",
    "    list1.append(int(input(\"Enter Number: \")))\n",
    "    \n",
    "tup = tuple(list1)\n",
    "print(sorted(tup))\n",
    "print(tup)"
   ]
  },
  {
   "cell_type": "code",
   "execution_count": 45,
   "id": "e61f5013-e7e2-448a-8f8c-7de85e2ac03b",
   "metadata": {},
   "outputs": [
    {
     "name": "stdin",
     "output_type": "stream",
     "text": [
      " 1 50\n",
      " 2 10\n",
      " 3 0\n",
      " 4 15\n",
      " 5 100\n"
     ]
    },
    {
     "name": "stdout",
     "output_type": "stream",
     "text": [
      "{'1': '50', '2': '10', '3': '0', '4': '15', '5': '100'}\n"
     ]
    },
    {
     "ename": "TypeError",
     "evalue": "'type' object is not subscriptable",
     "output_type": "error",
     "traceback": [
      "\u001b[1;31m---------------------------------------------------------------------------\u001b[0m",
      "\u001b[1;31mTypeError\u001b[0m                                 Traceback (most recent call last)",
      "\u001b[1;32m<ipython-input-45-85bfd3cd5d0a>\u001b[0m in \u001b[0;36m<module>\u001b[1;34m\u001b[0m\n\u001b[0;32m      6\u001b[0m \u001b[0mprint\u001b[0m\u001b[1;33m(\u001b[0m\u001b[0mdict1\u001b[0m\u001b[1;33m)\u001b[0m\u001b[1;33m\u001b[0m\u001b[1;33m\u001b[0m\u001b[0m\n\u001b[0;32m      7\u001b[0m \u001b[1;32mfor\u001b[0m \u001b[0mi\u001b[0m \u001b[1;32min\u001b[0m \u001b[0mdict1\u001b[0m\u001b[1;33m:\u001b[0m\u001b[1;33m\u001b[0m\u001b[1;33m\u001b[0m\u001b[0m\n\u001b[1;32m----> 8\u001b[1;33m     \u001b[0msum\u001b[0m \u001b[1;33m=\u001b[0m \u001b[0msum\u001b[0m \u001b[1;33m+\u001b[0m \u001b[0mint\u001b[0m\u001b[1;33m(\u001b[0m\u001b[0mdict\u001b[0m\u001b[1;33m[\u001b[0m\u001b[1;34m\"{i}\"\u001b[0m\u001b[1;33m]\u001b[0m\u001b[1;33m)\u001b[0m\u001b[1;33m\u001b[0m\u001b[1;33m\u001b[0m\u001b[0m\n\u001b[0m\u001b[0;32m      9\u001b[0m \u001b[1;33m\u001b[0m\u001b[0m\n\u001b[0;32m     10\u001b[0m \u001b[0mprint\u001b[0m\u001b[1;33m(\u001b[0m\u001b[0msum\u001b[0m\u001b[1;33m)\u001b[0m\u001b[1;33m\u001b[0m\u001b[1;33m\u001b[0m\u001b[0m\n",
      "\u001b[1;31mTypeError\u001b[0m: 'type' object is not subscriptable"
     ]
    }
   ],
   "source": [
    "# 3\n",
    "\n",
    "dict1 = {}\n",
    "dict1 = dict(input().split() for _ in range(5))\n",
    "sum=0.0\n",
    "print(dict1)\n",
    "for i in dict1:\n",
    "    sum = sum + int(dict[\"{i}\"])\n",
    "    \n",
    "print(sum)"
   ]
  }
 ],
 "metadata": {
  "kernelspec": {
   "display_name": "Python 3",
   "language": "python",
   "name": "python3"
  },
  "language_info": {
   "codemirror_mode": {
    "name": "ipython",
    "version": 3
   },
   "file_extension": ".py",
   "mimetype": "text/x-python",
   "name": "python",
   "nbconvert_exporter": "python",
   "pygments_lexer": "ipython3",
   "version": "3.8.8"
  }
 },
 "nbformat": 4,
 "nbformat_minor": 5
}
